{
 "cells": [
  {
   "cell_type": "code",
   "execution_count": 1,
   "metadata": {
    "execution": {
     "iopub.execute_input": "2021-12-16T10:01:49.095186Z",
     "iopub.status.busy": "2021-12-16T10:01:49.092588Z",
     "iopub.status.idle": "2021-12-16T10:01:50.443476Z",
     "shell.execute_reply": "2021-12-16T10:01:50.443979Z"
    }
   },
   "outputs": [
    {
     "name": "stderr",
     "output_type": "stream",
     "text": [
      "core           INFO \tLoading laps for Abu Dhabi Grand Prix - Race [v2.1.12]\n"
     ]
    },
    {
     "name": "stderr",
     "output_type": "stream",
     "text": [
      "api            INFO \tUsing cached data for timing_data\n"
     ]
    },
    {
     "name": "stderr",
     "output_type": "stream",
     "text": [
      "api            INFO \tUsing cached data for timing_app_data\n"
     ]
    },
    {
     "name": "stderr",
     "output_type": "stream",
     "text": [
      "core           INFO \tProcessing timing data...\n"
     ]
    },
    {
     "name": "stderr",
     "output_type": "stream",
     "text": [
      "api            INFO \tUsing cached data for driver_info\n"
     ]
    },
    {
     "name": "stderr",
     "output_type": "stream",
     "text": [
      "api            INFO \tUsing cached data for session_status_data\n"
     ]
    },
    {
     "name": "stderr",
     "output_type": "stream",
     "text": [
      "api            INFO \tUsing cached data for track_status_data\n"
     ]
    },
    {
     "name": "stderr",
     "output_type": "stream",
     "text": [
      "api            INFO \tUsing cached data for weather_data\n"
     ]
    },
    {
     "name": "stderr",
     "output_type": "stream",
     "text": [
      "core           INFO \tLoaded data for 19 drivers: ['33', '44', '4', '11', '55', '77', '16', '22', '31', '3', '14', '10', '18', '99', '5', '6', '63', '7', '47']\n"
     ]
    },
    {
     "data": {
      "text/plain": [
       "array(['VER', 'HAM', 'NOR', 'PER', 'SAI', 'BOT', 'LEC', 'TSU', 'OCO',\n",
       "       'RIC', 'ALO', 'GAS', 'STR', 'GIO', 'VET', 'LAT', 'RUS', 'RAI',\n",
       "       'MSC'], dtype=object)"
      ]
     },
     "execution_count": 1,
     "metadata": {},
     "output_type": "execute_result"
    }
   ],
   "source": [
    "import fastf1 as ff1\n",
    "import orchest\n",
    "import os\n",
    "\n",
    "os.makedirs('cache', exist_ok=True)\n",
    "ff1.Cache.enable_cache('cache')\n",
    "\n",
    "race = ff1.get_session(orchest.get_pipeline_param(\"race_year\"), orchest.get_pipeline_param(\"race_gp\"), 'R')\n",
    "\n",
    "# Collect all race laps\n",
    "laps = race.load_laps(with_telemetry=False)\n",
    "\n",
    "race.laps['Driver'].unique()"
   ]
  }
 ],
 "metadata": {
  "kernelspec": {
   "display_name": "Python 3",
   "language": "python",
   "name": "orchest-kernel-4ae9a956-eeed-4f51-96b3-b7aed4607dd4"
  },
  "language_info": {
   "codemirror_mode": {
    "name": "ipython",
    "version": 3
   },
   "file_extension": ".py",
   "mimetype": "text/x-python",
   "name": "python",
   "nbconvert_exporter": "python",
   "pygments_lexer": "ipython3",
   "version": "3.8.12"
  }
 },
 "nbformat": 4,
 "nbformat_minor": 4
}
