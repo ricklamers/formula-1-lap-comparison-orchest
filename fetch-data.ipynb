{
 "cells": [
  {
   "cell_type": "code",
   "execution_count": 1,
   "metadata": {
    "execution": {
     "iopub.execute_input": "2021-12-16T10:01:56.983331Z",
     "iopub.status.busy": "2021-12-16T10:01:56.982684Z",
     "iopub.status.idle": "2021-12-16T10:02:29.727774Z",
     "shell.execute_reply": "2021-12-16T10:02:29.727140Z"
    }
   },
   "outputs": [
    {
     "name": "stderr",
     "output_type": "stream",
     "text": [
      "font_manager       INFO \tgenerated new fontManager\n"
     ]
    },
    {
     "name": "stderr",
     "output_type": "stream",
     "text": [
      "core           INFO \tLoading laps for Abu Dhabi Grand Prix - Race [v2.1.12]\n"
     ]
    },
    {
     "name": "stderr",
     "output_type": "stream",
     "text": [
      "api            INFO \tUsing cached data for timing_data\n"
     ]
    },
    {
     "name": "stderr",
     "output_type": "stream",
     "text": [
      "api            INFO \tUsing cached data for timing_app_data\n"
     ]
    },
    {
     "name": "stderr",
     "output_type": "stream",
     "text": [
      "core           INFO \tProcessing timing data...\n"
     ]
    },
    {
     "name": "stderr",
     "output_type": "stream",
     "text": [
      "api            INFO \tUsing cached data for driver_info\n"
     ]
    },
    {
     "name": "stderr",
     "output_type": "stream",
     "text": [
      "api            INFO \tUsing cached data for session_status_data\n"
     ]
    },
    {
     "name": "stderr",
     "output_type": "stream",
     "text": [
      "api            INFO \tUsing cached data for track_status_data\n"
     ]
    },
    {
     "name": "stderr",
     "output_type": "stream",
     "text": [
      "api            INFO \tNo cached data found for car_data. Loading data...\n"
     ]
    },
    {
     "name": "stderr",
     "output_type": "stream",
     "text": [
      "api            INFO \tFetching car data...\n"
     ]
    },
    {
     "name": "stderr",
     "output_type": "stream",
     "text": [
      "api            INFO \tParsing car data...\n"
     ]
    },
    {
     "name": "stderr",
     "output_type": "stream",
     "text": [
      "api            INFO \tData has been written to cache!\n"
     ]
    },
    {
     "name": "stderr",
     "output_type": "stream",
     "text": [
      "api            INFO \tNo cached data found for position_data. Loading data...\n"
     ]
    },
    {
     "name": "stderr",
     "output_type": "stream",
     "text": [
      "api            INFO \tFetching position data...\n"
     ]
    },
    {
     "name": "stderr",
     "output_type": "stream",
     "text": [
      "api            INFO \tParsing position data...\n"
     ]
    },
    {
     "name": "stderr",
     "output_type": "stream",
     "text": [
      "api         WARNING \tDriver 241: Position data is incomplete!\n"
     ]
    },
    {
     "name": "stderr",
     "output_type": "stream",
     "text": [
      "api         WARNING \tDriver 242: Position data is incomplete!\n"
     ]
    },
    {
     "name": "stderr",
     "output_type": "stream",
     "text": [
      "api         WARNING \tDriver 243: Position data is incomplete!\n"
     ]
    },
    {
     "name": "stderr",
     "output_type": "stream",
     "text": [
      "api            INFO \tData has been written to cache!\n"
     ]
    },
    {
     "name": "stderr",
     "output_type": "stream",
     "text": [
      "api            INFO \tUsing cached data for weather_data\n"
     ]
    },
    {
     "name": "stderr",
     "output_type": "stream",
     "text": [
      "core           INFO \tLoaded data for 19 drivers: ['5', '11', '22', '3', '4', '44', '47', '77', '6', '16', '33', '7', '10', '99', '63', '31', '18', '14', '55']\n"
     ]
    }
   ],
   "source": [
    "import os\n",
    "\n",
    "import orchest\n",
    "\n",
    "import fastf1 as ff1\n",
    "from fastf1 import plotting\n",
    "from matplotlib import pyplot as plt\n",
    "from matplotlib.pyplot import figure\n",
    "\n",
    "# Setup plotting\n",
    "plotting.setup_mpl()\n",
    "# Enable the cache\n",
    "os.makedirs('cache', exist_ok=True)\n",
    "ff1.Cache.enable_cache('cache')\n",
    "\n",
    "race = ff1.get_session(orchest.get_pipeline_param(\"race_year\"), orchest.get_pipeline_param(\"race_gp\"), 'R')\n",
    "\n",
    "# Collect all race laps\n",
    "laps = race.load_laps(with_telemetry=True)\n",
    "\n",
    "# Get laps of the drivers (d1 and d2)\n",
    "laps_d1 = laps.pick_driver(orchest.get_pipeline_param('d1'))\n",
    "laps_d2 = laps.pick_driver(orchest.get_pipeline_param('d2'))\n",
    "\n",
    "# Extract the fastest laps\n",
    "fastest_d1 = laps_d1.pick_fastest()\n",
    "fastest_d2 = laps_d2.pick_fastest()\n",
    "\n",
    "# Get telemetry from fastest laps\n",
    "telemetry_d1 = fastest_d1.get_car_data().add_distance()\n",
    "telemetry_d2 = fastest_d2.get_car_data().add_distance()\n",
    "\n",
    "orchest.output((telemetry_d1, telemetry_d2), name='telemetry')"
   ]
  }
 ],
 "metadata": {
  "kernelspec": {
   "display_name": "Python 3",
   "language": "python",
   "name": "orchest-kernel-4ae9a956-eeed-4f51-96b3-b7aed4607dd4"
  },
  "language_info": {
   "codemirror_mode": {
    "name": "ipython",
    "version": 3
   },
   "file_extension": ".py",
   "mimetype": "text/x-python",
   "name": "python",
   "nbconvert_exporter": "python",
   "pygments_lexer": "ipython3",
   "version": "3.8.12"
  }
 },
 "nbformat": 4,
 "nbformat_minor": 4
}
